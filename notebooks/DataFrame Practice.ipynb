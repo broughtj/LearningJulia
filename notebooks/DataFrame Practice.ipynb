{
 "cells": [
  {
   "cell_type": "code",
   "execution_count": 24,
   "metadata": {
    "collapsed": false
   },
   "outputs": [
    {
     "ename": "LoadError",
     "evalue": "syntax: invalid escape sequence\nwhile loading In[24], in expression starting on line 3",
     "output_type": "error",
     "traceback": [
      "syntax: invalid escape sequence\nwhile loading In[24], in expression starting on line 3",
      ""
     ]
    }
   ],
   "source": [
    "using DataFrames\n",
    "\n",
    "crsp = readtable(\"C:\\Users/itcl\\Desktop/CRSP.csv\", header=true)\n"
   ]
  },
  {
   "cell_type": "code",
   "execution_count": 22,
   "metadata": {
    "collapsed": false
   },
   "outputs": [
    {
     "name": "stdout",
     "output_type": "stream",
     "text": [
      "0.8131652359955613 is less than 1.0286880198315025\n",
      "Joe has only a 0.8131652359955613 percent chance of winning, which is less than Bob at 1.0286880198315025 percent!"
     ]
    }
   ],
   "source": [
    "x = randn()\n",
    "y = randn()\n",
    "\n",
    "if x < y\n",
    "    println(\"$x is less than $y\")\n",
    "    print(\"Joe has only a $x percent chance of winning, which is less than Bob at $y percent!\")\n",
    "elseif x > y\n",
    "    print(\"$x is greater than $y\")\n",
    "else\n",
    "    print(\"$x is equal to $y\")\n",
    "end"
   ]
  },
  {
   "cell_type": "code",
   "execution_count": 15,
   "metadata": {
    "collapsed": false
   },
   "outputs": [
    {
     "name": "stdout",
     "output_type": "stream",
     "text": [
      "0.0"
     ]
    }
   ],
   "source": [
    "x = log(1)\n",
    "print(x)"
   ]
  },
  {
   "cell_type": "code",
   "execution_count": 27,
   "metadata": {
    "collapsed": false
   },
   "outputs": [
    {
     "ename": "LoadError",
     "evalue": "yd not defined\nwhile loading In[27], in expression starting on line 2",
     "output_type": "error",
     "traceback": [
      "yd not defined\nwhile loading In[27], in expression starting on line 2",
      ""
     ]
    }
   ],
   "source": [
    "x = randn(5,5)\n",
    "rename!(x, [:, :, :, :, :],[:height,:weight,:wingspan,:40yd,:vert])\n"
   ]
  },
  {
   "cell_type": "code",
   "execution_count": 28,
   "metadata": {
    "collapsed": false
   },
   "outputs": [
    {
     "data": {
      "text/html": [
       "<table class=\"data-frame\"><tr><th></th><th>X1</th><th>X2</th><th>X3</th><th>X4</th><th>Y1</th><th>Y2</th><th>Y3</th><th>Y4</th></tr><tr><th>1</th><td>10</td><td>10</td><td>10</td><td>8</td><td>8.04</td><td>9.14</td><td>7.46</td><td>6.58</td></tr><tr><th>2</th><td>8</td><td>8</td><td>8</td><td>8</td><td>6.95</td><td>8.14</td><td>6.77</td><td>5.76</td></tr><tr><th>3</th><td>13</td><td>13</td><td>13</td><td>8</td><td>7.58</td><td>8.74</td><td>12.74</td><td>7.71</td></tr><tr><th>4</th><td>9</td><td>9</td><td>9</td><td>8</td><td>8.81</td><td>8.77</td><td>7.11</td><td>8.84</td></tr><tr><th>5</th><td>11</td><td>11</td><td>11</td><td>8</td><td>8.33</td><td>9.26</td><td>7.81</td><td>8.47</td></tr><tr><th>6</th><td>14</td><td>14</td><td>14</td><td>8</td><td>9.96</td><td>8.1</td><td>8.84</td><td>7.04</td></tr><tr><th>7</th><td>6</td><td>6</td><td>6</td><td>8</td><td>7.24</td><td>6.13</td><td>6.08</td><td>5.25</td></tr><tr><th>8</th><td>4</td><td>4</td><td>4</td><td>19</td><td>4.26</td><td>3.1</td><td>5.39</td><td>12.5</td></tr><tr><th>9</th><td>12</td><td>12</td><td>12</td><td>8</td><td>10.84</td><td>9.13</td><td>8.15</td><td>5.56</td></tr><tr><th>10</th><td>7</td><td>7</td><td>7</td><td>8</td><td>4.82</td><td>7.26</td><td>6.42</td><td>7.91</td></tr><tr><th>11</th><td>5</td><td>5</td><td>5</td><td>8</td><td>5.68</td><td>4.74</td><td>5.73</td><td>6.89</td></tr></table>"
      ],
      "text/plain": [
       "11x8 DataFrame\n",
       "| Row | X1 | X2 | X3 | X4 | Y1    | Y2   | Y3    | Y4   |\n",
       "|-----|----|----|----|----|-------|------|-------|------|\n",
       "| 1   | 10 | 10 | 10 | 8  | 8.04  | 9.14 | 7.46  | 6.58 |\n",
       "| 2   | 8  | 8  | 8  | 8  | 6.95  | 8.14 | 6.77  | 5.76 |\n",
       "| 3   | 13 | 13 | 13 | 8  | 7.58  | 8.74 | 12.74 | 7.71 |\n",
       "| 4   | 9  | 9  | 9  | 8  | 8.81  | 8.77 | 7.11  | 8.84 |\n",
       "| 5   | 11 | 11 | 11 | 8  | 8.33  | 9.26 | 7.81  | 8.47 |\n",
       "| 6   | 14 | 14 | 14 | 8  | 9.96  | 8.1  | 8.84  | 7.04 |\n",
       "| 7   | 6  | 6  | 6  | 8  | 7.24  | 6.13 | 6.08  | 5.25 |\n",
       "| 8   | 4  | 4  | 4  | 19 | 4.26  | 3.1  | 5.39  | 12.5 |\n",
       "| 9   | 12 | 12 | 12 | 8  | 10.84 | 9.13 | 8.15  | 5.56 |\n",
       "| 10  | 7  | 7  | 7  | 8  | 4.82  | 7.26 | 6.42  | 7.91 |\n",
       "| 11  | 5  | 5  | 5  | 8  | 5.68  | 4.74 | 5.73  | 6.89 |"
      ]
     },
     "execution_count": 28,
     "metadata": {},
     "output_type": "execute_result"
    }
   ],
   "source": [
    "using RDatasets\n",
    "anscombe = dataset(\"datasets\",\"anscombe\")"
   ]
  },
  {
   "cell_type": "code",
   "execution_count": 29,
   "metadata": {
    "collapsed": false
   },
   "outputs": [
    {
     "ename": "LoadError",
     "evalue": "syntax: invalid escape sequence\nwhile loading In[29], in expression starting on line 1",
     "output_type": "error",
     "traceback": [
      "syntax: invalid escape sequence\nwhile loading In[29], in expression starting on line 1",
      ""
     ]
    }
   ],
   "source": [
    "writetable(\"C:\\users\\itcl\\desktop\\anscome.csv\", anscombe, separator = ',', header = true)\n"
   ]
  }
 ],
 "metadata": {
  "kernelspec": {
   "display_name": "Julia 0.3.12",
   "language": "julia",
   "name": "julia-0.3"
  },
  "language_info": {
   "file_extension": ".jl",
   "mimetype": "application/julia",
   "name": "julia",
   "version": "0.3.12"
  }
 },
 "nbformat": 4,
 "nbformat_minor": 0
}
